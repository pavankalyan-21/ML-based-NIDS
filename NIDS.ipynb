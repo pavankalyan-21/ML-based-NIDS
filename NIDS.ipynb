{
  "cells": [
    {
      "cell_type": "markdown",
      "metadata": {
        "id": "AKlQREigqJIJ"
      },
      "source": [
        "### Importing necessary libraries"
      ]
    },
    {
      "cell_type": "code",
      "execution_count": 8,
      "metadata": {
        "colab": {
          "base_uri": "https://localhost:8080/"
        },
        "id": "OxJMnlgGq80B",
        "outputId": "8fb17acc-029d-4f46-c943-6e4b01129827"
      },
      "outputs": [
        {
          "name": "stdout",
          "output_type": "stream",
          "text": [
            "Defaulting to user installation because normal site-packages is not writeable\n",
            "Collecting scapy\n",
            "  Using cached scapy-2.6.1-py3-none-any.whl.metadata (5.6 kB)\n",
            "Using cached scapy-2.6.1-py3-none-any.whl (2.4 MB)\n",
            "Installing collected packages: scapy\n",
            "Successfully installed scapy-2.6.1\n",
            "Note: you may need to restart the kernel to use updated packages.\n"
          ]
        },
        {
          "name": "stderr",
          "output_type": "stream",
          "text": [
            "\n",
            "[notice] A new release of pip is available: 24.3.1 -> 25.0\n",
            "[notice] To update, run: C:\\Users\\pavan\\AppData\\Local\\Microsoft\\WindowsApps\\PythonSoftwareFoundation.Python.3.13_qbz5n2kfra8p0\\python.exe -m pip install --upgrade pip\n"
          ]
        }
      ],
      "source": [
        "pip install scapy"
      ]
    },
    {
      "cell_type": "code",
      "execution_count": 20,
      "metadata": {
        "id": "6ggA7S5OqXwj"
      },
      "outputs": [],
      "source": [
        "import scapy.all as scapy\n",
        "import pandas as pd\n",
        "import joblib  # For loading the trained model\n",
        "from datetime import datetime\n",
        "import logging\n",
        "from sklearn.preprocessing import LabelEncoder\n",
        "import time"
      ]
    },
    {
      "cell_type": "code",
      "execution_count": 21,
      "metadata": {
        "id": "gnZb7kk4oHDm"
      },
      "outputs": [
        {
          "name": "stdout",
          "output_type": "stream",
          "text": [
            "Starting real-time Network Intrusion Detection System (NIDS)...\n"
          ]
        },
        {
          "ename": "RuntimeError",
          "evalue": "Sniffing and sending packets is not available at layer 2: winpcap is not installed. You may use conf.L3socket or conf.L3socket6 to access layer 3",
          "output_type": "error",
          "traceback": [
            "\u001b[1;31m---------------------------------------------------------------------------\u001b[0m",
            "\u001b[1;31mRuntimeError\u001b[0m                              Traceback (most recent call last)",
            "Cell \u001b[1;32mIn[21], line 157\u001b[0m\n\u001b[0;32m    155\u001b[0m \u001b[38;5;66;03m# Start sniffing network traffic\u001b[39;00m\n\u001b[0;32m    156\u001b[0m \u001b[38;5;28mprint\u001b[39m(\u001b[38;5;124m\"\u001b[39m\u001b[38;5;124mStarting real-time Network Intrusion Detection System (NIDS)...\u001b[39m\u001b[38;5;124m\"\u001b[39m)\n\u001b[1;32m--> 157\u001b[0m \u001b[43mscapy\u001b[49m\u001b[38;5;241;43m.\u001b[39;49m\u001b[43msniff\u001b[49m\u001b[43m(\u001b[49m\u001b[43mprn\u001b[49m\u001b[38;5;241;43m=\u001b[39;49m\u001b[43mprocess_packet\u001b[49m\u001b[43m,\u001b[49m\u001b[43m \u001b[49m\u001b[43mstore\u001b[49m\u001b[38;5;241;43m=\u001b[39;49m\u001b[38;5;28;43;01mFalse\u001b[39;49;00m\u001b[43m)\u001b[49m\n",
            "File \u001b[1;32m~\\AppData\\Local\\Packages\\PythonSoftwareFoundation.Python.3.13_qbz5n2kfra8p0\\LocalCache\\local-packages\\Python313\\site-packages\\scapy\\sendrecv.py:1424\u001b[0m, in \u001b[0;36msniff\u001b[1;34m(*args, **kwargs)\u001b[0m\n\u001b[0;32m   1420\u001b[0m \u001b[38;5;129m@conf\u001b[39m\u001b[38;5;241m.\u001b[39mcommands\u001b[38;5;241m.\u001b[39mregister\n\u001b[0;32m   1421\u001b[0m \u001b[38;5;28;01mdef\u001b[39;00m\u001b[38;5;250m \u001b[39m\u001b[38;5;21msniff\u001b[39m(\u001b[38;5;241m*\u001b[39margs, \u001b[38;5;241m*\u001b[39m\u001b[38;5;241m*\u001b[39mkwargs):\n\u001b[0;32m   1422\u001b[0m     \u001b[38;5;66;03m# type: (*Any, **Any) -> PacketList\u001b[39;00m\n\u001b[0;32m   1423\u001b[0m     sniffer \u001b[38;5;241m=\u001b[39m AsyncSniffer()\n\u001b[1;32m-> 1424\u001b[0m     \u001b[43msniffer\u001b[49m\u001b[38;5;241;43m.\u001b[39;49m\u001b[43m_run\u001b[49m\u001b[43m(\u001b[49m\u001b[38;5;241;43m*\u001b[39;49m\u001b[43margs\u001b[49m\u001b[43m,\u001b[49m\u001b[43m \u001b[49m\u001b[38;5;241;43m*\u001b[39;49m\u001b[38;5;241;43m*\u001b[39;49m\u001b[43mkwargs\u001b[49m\u001b[43m)\u001b[49m\n\u001b[0;32m   1425\u001b[0m     \u001b[38;5;28;01mreturn\u001b[39;00m cast(PacketList, sniffer\u001b[38;5;241m.\u001b[39mresults)\n",
            "File \u001b[1;32m~\\AppData\\Local\\Packages\\PythonSoftwareFoundation.Python.3.13_qbz5n2kfra8p0\\LocalCache\\local-packages\\Python313\\site-packages\\scapy\\sendrecv.py:1273\u001b[0m, in \u001b[0;36mAsyncSniffer._run\u001b[1;34m(self, count, store, offline, quiet, prn, lfilter, L2socket, timeout, opened_socket, stop_filter, iface, started_callback, session, chainCC, **karg)\u001b[0m\n\u001b[0;32m   1271\u001b[0m     \u001b[38;5;28;01melse\u001b[39;00m:\n\u001b[0;32m   1272\u001b[0m         iface \u001b[38;5;241m=\u001b[39m iface \u001b[38;5;129;01mor\u001b[39;00m conf\u001b[38;5;241m.\u001b[39miface\n\u001b[1;32m-> 1273\u001b[0m         sniff_sockets[\u001b[43m_RL2\u001b[49m\u001b[43m(\u001b[49m\u001b[43miface\u001b[49m\u001b[43m)\u001b[49m\u001b[43m(\u001b[49m\u001b[38;5;28;43mtype\u001b[39;49m\u001b[38;5;241;43m=\u001b[39;49m\u001b[43mETH_P_ALL\u001b[49m\u001b[43m,\u001b[49m\u001b[43m \u001b[49m\u001b[43miface\u001b[49m\u001b[38;5;241;43m=\u001b[39;49m\u001b[43miface\u001b[49m\u001b[43m,\u001b[49m\n\u001b[0;32m   1274\u001b[0m \u001b[43m                                  \u001b[49m\u001b[38;5;241;43m*\u001b[39;49m\u001b[38;5;241;43m*\u001b[39;49m\u001b[43mkarg\u001b[49m\u001b[43m)\u001b[49m] \u001b[38;5;241m=\u001b[39m iface\n\u001b[0;32m   1276\u001b[0m \u001b[38;5;66;03m# Get select information from the sockets\u001b[39;00m\n\u001b[0;32m   1277\u001b[0m _main_socket \u001b[38;5;241m=\u001b[39m \u001b[38;5;28mnext\u001b[39m(\u001b[38;5;28miter\u001b[39m(sniff_sockets))\n",
            "File \u001b[1;32m~\\AppData\\Local\\Packages\\PythonSoftwareFoundation.Python.3.13_qbz5n2kfra8p0\\LocalCache\\local-packages\\Python313\\site-packages\\scapy\\arch\\windows\\__init__.py:1027\u001b[0m, in \u001b[0;36m_NotAvailableSocket.__init__\u001b[1;34m(self, *args, **kargs)\u001b[0m\n\u001b[0;32m   1025\u001b[0m \u001b[38;5;28;01mdef\u001b[39;00m\u001b[38;5;250m \u001b[39m\u001b[38;5;21m__init__\u001b[39m(\u001b[38;5;28mself\u001b[39m, \u001b[38;5;241m*\u001b[39margs, \u001b[38;5;241m*\u001b[39m\u001b[38;5;241m*\u001b[39mkargs):\n\u001b[0;32m   1026\u001b[0m     \u001b[38;5;66;03m# type: (*Any, **Any) -> None\u001b[39;00m\n\u001b[1;32m-> 1027\u001b[0m     \u001b[38;5;28;01mraise\u001b[39;00m \u001b[38;5;167;01mRuntimeError\u001b[39;00m(\n\u001b[0;32m   1028\u001b[0m         \u001b[38;5;124m\"\u001b[39m\u001b[38;5;124mSniffing and sending packets is not available at layer 2: \u001b[39m\u001b[38;5;124m\"\u001b[39m\n\u001b[0;32m   1029\u001b[0m         \u001b[38;5;124m\"\u001b[39m\u001b[38;5;124mwinpcap is not installed. You may use conf.L3socket or \u001b[39m\u001b[38;5;124m\"\u001b[39m\n\u001b[0;32m   1030\u001b[0m         \u001b[38;5;124m\"\u001b[39m\u001b[38;5;124mconf.L3socket6 to access layer 3\u001b[39m\u001b[38;5;124m\"\u001b[39m\n\u001b[0;32m   1031\u001b[0m     )\n",
            "\u001b[1;31mRuntimeError\u001b[0m: Sniffing and sending packets is not available at layer 2: winpcap is not installed. You may use conf.L3socket or conf.L3socket6 to access layer 3"
          ]
        }
      ],
      "source": [
        "import scapy.all as scapy\n",
        "import pandas as pd\n",
        "import joblib  # For loading the trained model\n",
        "from datetime import datetime\n",
        "import logging\n",
        "from sklearn.preprocessing import LabelEncoder\n",
        "import time\n",
        "\n",
        "# Configure logging\n",
        "logging.basicConfig(filename=\"nids_log.txt\", level=logging.INFO, format=\"%(asctime)s - %(message)s\")\n",
        "\n",
        "# Load the trained model\n",
        "model = joblib.load(\"nids_model.pkl\")  # Ensure 'nids_model.pkl' is available\n",
        "\n",
        "# Store active flows\n",
        "active_flows = {}\n",
        "\n",
        "# Timeout to end an active flow (in seconds)\n",
        "FLOW_TIMEOUT = 60  # If no packet arrives within this time, the flow is considered ended\n",
        "\n",
        "# Define feature extraction function based on your dataset structure\n",
        "def extract_features(packet):\n",
        "    features = {}\n",
        "    \n",
        "    # Extract features related to IPV4 and ports\n",
        "    if packet.haslayer(scapy.IP):\n",
        "        features['IPV4_SRC_ADDR'] = packet[scapy.IP].src\n",
        "        features['IPV4_DST_ADDR'] = packet[scapy.IP].dst\n",
        "        features['PROTOCOL'] = packet[scapy.IP].proto\n",
        "        features['L4_SRC_PORT'] = packet.sport if packet.haslayer(scapy.TCP) else 0\n",
        "        features['L4_DST_PORT'] = packet.dport if packet.haslayer(scapy.TCP) else 0\n",
        "        \n",
        "        # Extract TCP flags\n",
        "        features['TCP_FLAGS'] = packet.sprintf(\"%TCP.flags%\") if packet.haslayer(scapy.TCP) else \"None\"\n",
        "        \n",
        "        # Application Layer Protocol (Layer 7 protocol)\n",
        "        features['L7_PROTO'] = packet.payload.__class__.__name__ if hasattr(packet.payload, '__class__') else \"Unknown\"\n",
        "        \n",
        "        # Bytes and packets count (in and out)\n",
        "        features['IN_BYTES'] = len(packet)\n",
        "        features['OUT_BYTES'] = 0  # You can extend this if you want to track outgoing packets\n",
        "        features['IN_PKTS'] = 1  # We assume 1 packet at a time\n",
        "        features['OUT_PKTS'] = 0  # Could track outbound if required\n",
        "\n",
        "        # Flow Duration (could be zero for single packets or calculated differently for flows)\n",
        "        features['FLOW_DURATION_MILLISECONDS'] = 0  # Flow duration tracking can be extended if needed\n",
        "    \n",
        "    return features\n",
        "\n",
        "# Update active flow information\n",
        "def update_flow_info(packet, flow_key, features):\n",
        "    if flow_key not in active_flows:\n",
        "        # Start a new flow\n",
        "        active_flows[flow_key] = {\n",
        "            'start_time': datetime.now(),\n",
        "            'last_packet_time': datetime.now(),\n",
        "            'total_bytes': 0,\n",
        "            'total_packets': 0,\n",
        "            'tcp_flags': set(),\n",
        "            'protocol': features['PROTOCOL'],\n",
        "            'src_ip': features['IPV4_SRC_ADDR'],\n",
        "            'dst_ip': features['IPV4_DST_ADDR'],\n",
        "            'src_port': features['L4_SRC_PORT'],\n",
        "            'dst_port': features['L4_DST_PORT']\n",
        "        }\n",
        "    \n",
        "    # Update flow statistics\n",
        "    flow = active_flows[flow_key]\n",
        "    flow['last_packet_time'] = datetime.now()\n",
        "    flow['total_bytes'] += features['IN_BYTES']\n",
        "    flow['total_packets'] += 1\n",
        "    flow['tcp_flags'].add(features['TCP_FLAGS'])\n",
        "\n",
        "    # Calculate flow duration in milliseconds\n",
        "    flow['FLOW_DURATION_MILLISECONDS'] = (flow['last_packet_time'] - flow['start_time']).total_seconds() * 1000\n",
        "    \n",
        "def cleanup_old_flows():\n",
        "    # Clean up flows that have timed out\n",
        "    current_time = datetime.now()\n",
        "    for flow_key, flow in list(active_flows.items()):\n",
        "        time_diff = (current_time - flow['last_packet_time']).total_seconds()\n",
        "        if time_diff > FLOW_TIMEOUT:\n",
        "            print(f\"Flow {flow_key} timed out.\")\n",
        "            del active_flows[flow_key]\n",
        "\n",
        "# Process packet and make prediction\n",
        "def process_packet(packet):\n",
        "    features = extract_features(packet)\n",
        "    if features:\n",
        "        # Create a flow key (a unique identifier for each flow)\n",
        "        flow_key = (features['IPV4_SRC_ADDR'], features['IPV4_DST_ADDR'], features['L4_SRC_PORT'], features['L4_DST_PORT'], features['PROTOCOL'])\n",
        "\n",
        "        # Update flow information\n",
        "        update_flow_info(packet, flow_key, features)\n",
        "\n",
        "        # Convert flow info to DataFrame for prediction\n",
        "        flow = active_flows[flow_key]\n",
        "        flow_data = {\n",
        "            'PROTOCOL': flow['protocol'],\n",
        "            'L4_SRC_PORT': flow['src_port'],\n",
        "            'L4_DST_PORT': flow['dst_port'],\n",
        "            'TCP_FLAGS': ','.join(flow['tcp_flags']),\n",
        "            'IN_BYTES': flow['total_bytes'],\n",
        "            'IN_PKTS': flow['total_packets'],\n",
        "            'FLOW_DURATION_MILLISECONDS': flow['FLOW_DURATION_MILLISECONDS']\n",
        "        }\n",
        "\n",
        "        df = pd.DataFrame([flow_data])\n",
        "\n",
        "        # Encode categorical features\n",
        "        categorical_features = ['PROTOCOL', 'TCP_FLAGS']\n",
        "        label_encoder = LabelEncoder()\n",
        "        \n",
        "        # Label encoding for categorical features\n",
        "        for feature in categorical_features:\n",
        "            if feature in df.columns:\n",
        "                df[feature] = label_encoder.fit_transform(df[feature].values)\n",
        "        \n",
        "        try:\n",
        "            # Make prediction using the model\n",
        "            prediction = model.predict(df)[0]\n",
        "            label = \"Malicious\" if prediction == 1 else \"Benign\"\n",
        "\n",
        "            # Log detection\n",
        "            log_message = f\"Detected {label} traffic from {features['IPV4_SRC_ADDR']} to {features['IPV4_DST_ADDR']} with protocol {features['PROTOCOL']}\"\n",
        "            logging.info(log_message)\n",
        "            print(f\"[ALERT] {log_message}\")\n",
        "\n",
        "            # Automated Response: Example - Block malicious IP\n",
        "            if label == \"Malicious\":\n",
        "                block_ip(features['IPV4_SRC_ADDR'])\n",
        "\n",
        "        except Exception as e:\n",
        "            logging.error(f\"Error during prediction: {e}\")\n",
        "            print(f\"Error during prediction: {e}\")\n",
        "\n",
        "# Function to block IP (Linux IPTables example)\n",
        "def block_ip(ip):\n",
        "    print(f\"Blocking IP: {ip}\")\n",
        "    # Uncomment below to actually block\n",
        "    # os.system(f\"sudo iptables -A INPUT -s {ip} -j DROP\")\n",
        "    logging.info(f\"Blocked IP: {ip}\")\n",
        "\n",
        "# Clean up old flows periodically (for example, every 30 seconds)\n",
        "import threading\n",
        "def periodic_cleanup():\n",
        "    while True:\n",
        "        time.sleep(FLOW_TIMEOUT)  # Run cleanup periodically based on the flow timeout\n",
        "        cleanup_old_flows()\n",
        "\n",
        "# Start a cleanup thread\n",
        "cleanup_thread = threading.Thread(target=periodic_cleanup, daemon=True)\n",
        "cleanup_thread.start()\n",
        "\n",
        "# Start sniffing network traffic\n",
        "print(\"Starting real-time Network Intrusion Detection System (NIDS)...\")\n",
        "scapy.sniff(prn=process_packet, store=False)\n"
      ]
    },
    {
      "cell_type": "code",
      "execution_count": 19,
      "metadata": {},
      "outputs": [
        {
          "ename": "RuntimeError",
          "evalue": "Sniffing and sending packets is not available at layer 2: winpcap is not installed. You may use conf.L3socket or conf.L3socket6 to access layer 3",
          "output_type": "error",
          "traceback": [
            "\u001b[1;31m---------------------------------------------------------------------------\u001b[0m",
            "\u001b[1;31mRuntimeError\u001b[0m                              Traceback (most recent call last)",
            "Cell \u001b[1;32mIn[19], line 6\u001b[0m\n\u001b[0;32m      3\u001b[0m \u001b[38;5;28;01mdef\u001b[39;00m\u001b[38;5;250m \u001b[39m\u001b[38;5;21mpacket_callback\u001b[39m(packet):\n\u001b[0;32m      4\u001b[0m     \u001b[38;5;28mprint\u001b[39m(packet\u001b[38;5;241m.\u001b[39mshow())\n\u001b[1;32m----> 6\u001b[0m \u001b[43msniff\u001b[49m\u001b[43m(\u001b[49m\u001b[43mprn\u001b[49m\u001b[38;5;241;43m=\u001b[39;49m\u001b[43mpacket_callback\u001b[49m\u001b[43m,\u001b[49m\u001b[43m \u001b[49m\u001b[43mcount\u001b[49m\u001b[38;5;241;43m=\u001b[39;49m\u001b[38;5;241;43m10\u001b[39;49m\u001b[43m)\u001b[49m\n\u001b[0;32m      8\u001b[0m \u001b[38;5;66;03m# Packet sending example\u001b[39;00m\n\u001b[0;32m      9\u001b[0m packet \u001b[38;5;241m=\u001b[39m IP(dst\u001b[38;5;241m=\u001b[39m\u001b[38;5;124m\"\u001b[39m\u001b[38;5;124m8.8.8.8\u001b[39m\u001b[38;5;124m\"\u001b[39m)\u001b[38;5;241m/\u001b[39mICMP()\n",
            "File \u001b[1;32m~\\AppData\\Local\\Packages\\PythonSoftwareFoundation.Python.3.13_qbz5n2kfra8p0\\LocalCache\\local-packages\\Python313\\site-packages\\scapy\\sendrecv.py:1424\u001b[0m, in \u001b[0;36msniff\u001b[1;34m(*args, **kwargs)\u001b[0m\n\u001b[0;32m   1420\u001b[0m \u001b[38;5;129m@conf\u001b[39m\u001b[38;5;241m.\u001b[39mcommands\u001b[38;5;241m.\u001b[39mregister\n\u001b[0;32m   1421\u001b[0m \u001b[38;5;28;01mdef\u001b[39;00m\u001b[38;5;250m \u001b[39m\u001b[38;5;21msniff\u001b[39m(\u001b[38;5;241m*\u001b[39margs, \u001b[38;5;241m*\u001b[39m\u001b[38;5;241m*\u001b[39mkwargs):\n\u001b[0;32m   1422\u001b[0m     \u001b[38;5;66;03m# type: (*Any, **Any) -> PacketList\u001b[39;00m\n\u001b[0;32m   1423\u001b[0m     sniffer \u001b[38;5;241m=\u001b[39m AsyncSniffer()\n\u001b[1;32m-> 1424\u001b[0m     \u001b[43msniffer\u001b[49m\u001b[38;5;241;43m.\u001b[39;49m\u001b[43m_run\u001b[49m\u001b[43m(\u001b[49m\u001b[38;5;241;43m*\u001b[39;49m\u001b[43margs\u001b[49m\u001b[43m,\u001b[49m\u001b[43m \u001b[49m\u001b[38;5;241;43m*\u001b[39;49m\u001b[38;5;241;43m*\u001b[39;49m\u001b[43mkwargs\u001b[49m\u001b[43m)\u001b[49m\n\u001b[0;32m   1425\u001b[0m     \u001b[38;5;28;01mreturn\u001b[39;00m cast(PacketList, sniffer\u001b[38;5;241m.\u001b[39mresults)\n",
            "File \u001b[1;32m~\\AppData\\Local\\Packages\\PythonSoftwareFoundation.Python.3.13_qbz5n2kfra8p0\\LocalCache\\local-packages\\Python313\\site-packages\\scapy\\sendrecv.py:1273\u001b[0m, in \u001b[0;36mAsyncSniffer._run\u001b[1;34m(self, count, store, offline, quiet, prn, lfilter, L2socket, timeout, opened_socket, stop_filter, iface, started_callback, session, chainCC, **karg)\u001b[0m\n\u001b[0;32m   1271\u001b[0m     \u001b[38;5;28;01melse\u001b[39;00m:\n\u001b[0;32m   1272\u001b[0m         iface \u001b[38;5;241m=\u001b[39m iface \u001b[38;5;129;01mor\u001b[39;00m conf\u001b[38;5;241m.\u001b[39miface\n\u001b[1;32m-> 1273\u001b[0m         sniff_sockets[\u001b[43m_RL2\u001b[49m\u001b[43m(\u001b[49m\u001b[43miface\u001b[49m\u001b[43m)\u001b[49m\u001b[43m(\u001b[49m\u001b[38;5;28;43mtype\u001b[39;49m\u001b[38;5;241;43m=\u001b[39;49m\u001b[43mETH_P_ALL\u001b[49m\u001b[43m,\u001b[49m\u001b[43m \u001b[49m\u001b[43miface\u001b[49m\u001b[38;5;241;43m=\u001b[39;49m\u001b[43miface\u001b[49m\u001b[43m,\u001b[49m\n\u001b[0;32m   1274\u001b[0m \u001b[43m                                  \u001b[49m\u001b[38;5;241;43m*\u001b[39;49m\u001b[38;5;241;43m*\u001b[39;49m\u001b[43mkarg\u001b[49m\u001b[43m)\u001b[49m] \u001b[38;5;241m=\u001b[39m iface\n\u001b[0;32m   1276\u001b[0m \u001b[38;5;66;03m# Get select information from the sockets\u001b[39;00m\n\u001b[0;32m   1277\u001b[0m _main_socket \u001b[38;5;241m=\u001b[39m \u001b[38;5;28mnext\u001b[39m(\u001b[38;5;28miter\u001b[39m(sniff_sockets))\n",
            "File \u001b[1;32m~\\AppData\\Local\\Packages\\PythonSoftwareFoundation.Python.3.13_qbz5n2kfra8p0\\LocalCache\\local-packages\\Python313\\site-packages\\scapy\\arch\\windows\\__init__.py:1027\u001b[0m, in \u001b[0;36m_NotAvailableSocket.__init__\u001b[1;34m(self, *args, **kargs)\u001b[0m\n\u001b[0;32m   1025\u001b[0m \u001b[38;5;28;01mdef\u001b[39;00m\u001b[38;5;250m \u001b[39m\u001b[38;5;21m__init__\u001b[39m(\u001b[38;5;28mself\u001b[39m, \u001b[38;5;241m*\u001b[39margs, \u001b[38;5;241m*\u001b[39m\u001b[38;5;241m*\u001b[39mkargs):\n\u001b[0;32m   1026\u001b[0m     \u001b[38;5;66;03m# type: (*Any, **Any) -> None\u001b[39;00m\n\u001b[1;32m-> 1027\u001b[0m     \u001b[38;5;28;01mraise\u001b[39;00m \u001b[38;5;167;01mRuntimeError\u001b[39;00m(\n\u001b[0;32m   1028\u001b[0m         \u001b[38;5;124m\"\u001b[39m\u001b[38;5;124mSniffing and sending packets is not available at layer 2: \u001b[39m\u001b[38;5;124m\"\u001b[39m\n\u001b[0;32m   1029\u001b[0m         \u001b[38;5;124m\"\u001b[39m\u001b[38;5;124mwinpcap is not installed. You may use conf.L3socket or \u001b[39m\u001b[38;5;124m\"\u001b[39m\n\u001b[0;32m   1030\u001b[0m         \u001b[38;5;124m\"\u001b[39m\u001b[38;5;124mconf.L3socket6 to access layer 3\u001b[39m\u001b[38;5;124m\"\u001b[39m\n\u001b[0;32m   1031\u001b[0m     )\n",
            "\u001b[1;31mRuntimeError\u001b[0m: Sniffing and sending packets is not available at layer 2: winpcap is not installed. You may use conf.L3socket or conf.L3socket6 to access layer 3"
          ]
        }
      ],
      "source": [
        "from scapy import *\n",
        "# Packet sniffing example\n",
        "def packet_callback(packet):\n",
        "    print(packet.show())\n",
        "\n",
        "sniff(prn=packet_callback, count=10)\n",
        "\n",
        "# Packet sending example\n",
        "packet = IP(dst=\"8.8.8.8\")/ICMP()\n",
        "send(packet)\n"
      ]
    },
    {
      "cell_type": "code",
      "execution_count": 15,
      "metadata": {},
      "outputs": [
        {
          "name": "stderr",
          "output_type": "stream",
          "text": [
            "\n"
          ]
        },
        {
          "name": "stdout",
          "output_type": "stream",
          "text": [
            "Defaulting to user installation because normal site-packages is not writeable"
          ]
        },
        {
          "name": "stderr",
          "output_type": "stream",
          "text": [
            "[notice] A new release of pip is available: 24.3.1 -> 25.0"
          ]
        },
        {
          "name": "stdout",
          "output_type": "stream",
          "text": [
            "\n"
          ]
        },
        {
          "name": "stderr",
          "output_type": "stream",
          "text": [
            "\n"
          ]
        },
        {
          "name": "stdout",
          "output_type": "stream",
          "text": [
            "Requirement already satisfied: scapy in c:\\users\\pavan\\appdata\\local\\packages\\pythonsoftwarefoundation.python.3.13_qbz5n2kfra8p0\\localcache\\local-packages\\python313\\site-packages (2.6.1)"
          ]
        },
        {
          "name": "stderr",
          "output_type": "stream",
          "text": [
            "[notice] To update, run: C:\\Users\\pavan\\AppData\\Local\\Microsoft\\WindowsApps\\PythonSoftwareFoundation.Python.3.13_qbz5n2kfra8p0\\python.exe -m pip install --upgrade pip"
          ]
        },
        {
          "ename": "RuntimeError",
          "evalue": "Sniffing and sending packets is not available at layer 2: winpcap is not installed. You may use conf.L3socket or conf.L3socket6 to access layer 3",
          "output_type": "error",
          "traceback": [
            "\u001b[1;31m---------------------------------------------------------------------------\u001b[0m",
            "\u001b[1;31mRuntimeError\u001b[0m                              Traceback (most recent call last)",
            "Cell \u001b[1;32mIn[15], line 11\u001b[0m\n\u001b[0;32m      8\u001b[0m \u001b[38;5;28;01mdef\u001b[39;00m\u001b[38;5;250m \u001b[39m\u001b[38;5;21mpacket_callback\u001b[39m(packet):\n\u001b[0;32m      9\u001b[0m     \u001b[38;5;28mprint\u001b[39m(packet\u001b[38;5;241m.\u001b[39mshow())\n\u001b[1;32m---> 11\u001b[0m \u001b[43msniff\u001b[49m\u001b[43m(\u001b[49m\u001b[43mprn\u001b[49m\u001b[38;5;241;43m=\u001b[39;49m\u001b[43mpacket_callback\u001b[49m\u001b[43m,\u001b[49m\u001b[43m \u001b[49m\u001b[43mcount\u001b[49m\u001b[38;5;241;43m=\u001b[39;49m\u001b[38;5;241;43m10\u001b[39;49m\u001b[43m)\u001b[49m\n\u001b[0;32m     13\u001b[0m \u001b[38;5;66;03m# Packet sending example\u001b[39;00m\n\u001b[0;32m     14\u001b[0m packet \u001b[38;5;241m=\u001b[39m IP(dst\u001b[38;5;241m=\u001b[39m\u001b[38;5;124m\"\u001b[39m\u001b[38;5;124m8.8.8.8\u001b[39m\u001b[38;5;124m\"\u001b[39m)\u001b[38;5;241m/\u001b[39mICMP()\n",
            "File \u001b[1;32m~\\AppData\\Local\\Packages\\PythonSoftwareFoundation.Python.3.13_qbz5n2kfra8p0\\LocalCache\\local-packages\\Python313\\site-packages\\scapy\\sendrecv.py:1424\u001b[0m, in \u001b[0;36msniff\u001b[1;34m(*args, **kwargs)\u001b[0m\n\u001b[0;32m   1420\u001b[0m \u001b[38;5;129m@conf\u001b[39m\u001b[38;5;241m.\u001b[39mcommands\u001b[38;5;241m.\u001b[39mregister\n\u001b[0;32m   1421\u001b[0m \u001b[38;5;28;01mdef\u001b[39;00m\u001b[38;5;250m \u001b[39m\u001b[38;5;21msniff\u001b[39m(\u001b[38;5;241m*\u001b[39margs, \u001b[38;5;241m*\u001b[39m\u001b[38;5;241m*\u001b[39mkwargs):\n\u001b[0;32m   1422\u001b[0m     \u001b[38;5;66;03m# type: (*Any, **Any) -> PacketList\u001b[39;00m\n\u001b[0;32m   1423\u001b[0m     sniffer \u001b[38;5;241m=\u001b[39m AsyncSniffer()\n\u001b[1;32m-> 1424\u001b[0m     \u001b[43msniffer\u001b[49m\u001b[38;5;241;43m.\u001b[39;49m\u001b[43m_run\u001b[49m\u001b[43m(\u001b[49m\u001b[38;5;241;43m*\u001b[39;49m\u001b[43margs\u001b[49m\u001b[43m,\u001b[49m\u001b[43m \u001b[49m\u001b[38;5;241;43m*\u001b[39;49m\u001b[38;5;241;43m*\u001b[39;49m\u001b[43mkwargs\u001b[49m\u001b[43m)\u001b[49m\n\u001b[0;32m   1425\u001b[0m     \u001b[38;5;28;01mreturn\u001b[39;00m cast(PacketList, sniffer\u001b[38;5;241m.\u001b[39mresults)\n",
            "File \u001b[1;32m~\\AppData\\Local\\Packages\\PythonSoftwareFoundation.Python.3.13_qbz5n2kfra8p0\\LocalCache\\local-packages\\Python313\\site-packages\\scapy\\sendrecv.py:1273\u001b[0m, in \u001b[0;36mAsyncSniffer._run\u001b[1;34m(self, count, store, offline, quiet, prn, lfilter, L2socket, timeout, opened_socket, stop_filter, iface, started_callback, session, chainCC, **karg)\u001b[0m\n\u001b[0;32m   1271\u001b[0m     \u001b[38;5;28;01melse\u001b[39;00m:\n\u001b[0;32m   1272\u001b[0m         iface \u001b[38;5;241m=\u001b[39m iface \u001b[38;5;129;01mor\u001b[39;00m conf\u001b[38;5;241m.\u001b[39miface\n\u001b[1;32m-> 1273\u001b[0m         sniff_sockets[\u001b[43m_RL2\u001b[49m\u001b[43m(\u001b[49m\u001b[43miface\u001b[49m\u001b[43m)\u001b[49m\u001b[43m(\u001b[49m\u001b[38;5;28;43mtype\u001b[39;49m\u001b[38;5;241;43m=\u001b[39;49m\u001b[43mETH_P_ALL\u001b[49m\u001b[43m,\u001b[49m\u001b[43m \u001b[49m\u001b[43miface\u001b[49m\u001b[38;5;241;43m=\u001b[39;49m\u001b[43miface\u001b[49m\u001b[43m,\u001b[49m\n\u001b[0;32m   1274\u001b[0m \u001b[43m                                  \u001b[49m\u001b[38;5;241;43m*\u001b[39;49m\u001b[38;5;241;43m*\u001b[39;49m\u001b[43mkarg\u001b[49m\u001b[43m)\u001b[49m] \u001b[38;5;241m=\u001b[39m iface\n\u001b[0;32m   1276\u001b[0m \u001b[38;5;66;03m# Get select information from the sockets\u001b[39;00m\n\u001b[0;32m   1277\u001b[0m _main_socket \u001b[38;5;241m=\u001b[39m \u001b[38;5;28mnext\u001b[39m(\u001b[38;5;28miter\u001b[39m(sniff_sockets))\n",
            "File \u001b[1;32m~\\AppData\\Local\\Packages\\PythonSoftwareFoundation.Python.3.13_qbz5n2kfra8p0\\LocalCache\\local-packages\\Python313\\site-packages\\scapy\\arch\\windows\\__init__.py:1027\u001b[0m, in \u001b[0;36m_NotAvailableSocket.__init__\u001b[1;34m(self, *args, **kargs)\u001b[0m\n\u001b[0;32m   1025\u001b[0m \u001b[38;5;28;01mdef\u001b[39;00m\u001b[38;5;250m \u001b[39m\u001b[38;5;21m__init__\u001b[39m(\u001b[38;5;28mself\u001b[39m, \u001b[38;5;241m*\u001b[39margs, \u001b[38;5;241m*\u001b[39m\u001b[38;5;241m*\u001b[39mkargs):\n\u001b[0;32m   1026\u001b[0m     \u001b[38;5;66;03m# type: (*Any, **Any) -> None\u001b[39;00m\n\u001b[1;32m-> 1027\u001b[0m     \u001b[38;5;28;01mraise\u001b[39;00m \u001b[38;5;167;01mRuntimeError\u001b[39;00m(\n\u001b[0;32m   1028\u001b[0m         \u001b[38;5;124m\"\u001b[39m\u001b[38;5;124mSniffing and sending packets is not available at layer 2: \u001b[39m\u001b[38;5;124m\"\u001b[39m\n\u001b[0;32m   1029\u001b[0m         \u001b[38;5;124m\"\u001b[39m\u001b[38;5;124mwinpcap is not installed. You may use conf.L3socket or \u001b[39m\u001b[38;5;124m\"\u001b[39m\n\u001b[0;32m   1030\u001b[0m         \u001b[38;5;124m\"\u001b[39m\u001b[38;5;124mconf.L3socket6 to access layer 3\u001b[39m\u001b[38;5;124m\"\u001b[39m\n\u001b[0;32m   1031\u001b[0m     )\n",
            "\u001b[1;31mRuntimeError\u001b[0m: Sniffing and sending packets is not available at layer 2: winpcap is not installed. You may use conf.L3socket or conf.L3socket6 to access layer 3"
          ]
        },
        {
          "name": "stdout",
          "output_type": "stream",
          "text": [
            "\n"
          ]
        },
        {
          "name": "stderr",
          "output_type": "stream",
          "text": [
            "\n"
          ]
        }
      ],
      "source": [
        "# Install Scapy\n",
        "!pip install scapy\n",
        "\n",
        "# Import Scapy\n",
        "from scapy.all import *\n",
        "\n",
        "# Packet sniffing example\n",
        "def packet_callback(packet):\n",
        "    print(packet.show())\n",
        "\n",
        "sniff(prn=packet_callback, count=10)\n",
        "\n",
        "# Packet sending example\n",
        "packet = IP(dst=\"8.8.8.8\")/ICMP()\n",
        "send(packet)\n"
      ]
    },
    {
      "cell_type": "code",
      "execution_count": null,
      "metadata": {
        "id": "7Z1YkfVso-_W"
      },
      "outputs": [],
      "source": [
        "import streamlit as st\n",
        "import pandas as pd\n",
        "import time\n",
        "\n",
        "# Define the log file path\n",
        "LOG_FILE = \"nids_log.txt\"\n",
        "\n",
        "# Streamlit dashboard setup\n",
        "st.title(\"Real-Time Network Intrusion Detection System (NIDS) Dashboard\")\n",
        "st.write(\"Monitoring real-time network traffic for intrusion detection.\")\n",
        "\n",
        "# Function to read logs\n",
        "def read_logs():\n",
        "    try:\n",
        "        df = pd.read_csv(LOG_FILE, sep=\" - \", engine=\"python\", names=[\"Timestamp\", \"Message\"])\n",
        "        df[\"Timestamp\"] = pd.to_datetime(df[\"Timestamp\"])\n",
        "        return df\n",
        "    except Exception as e:\n",
        "        return pd.DataFrame(columns=[\"Timestamp\", \"Message\"])\n",
        "\n",
        "# Real-time updates\n",
        "placeholder = st.empty()\n",
        "while True:\n",
        "    df = read_logs()\n",
        "    if not df.empty:\n",
        "        with placeholder.container():\n",
        "            st.dataframe(df.tail(10))  # Show last 10 alerts\n",
        "    time.sleep(5)  # Refresh every 5 seconds\n"
      ]
    }
  ],
  "metadata": {
    "accelerator": "TPU",
    "colab": {
      "gpuType": "V28",
      "provenance": []
    },
    "kernelspec": {
      "display_name": "Python 3",
      "name": "python3"
    },
    "language_info": {
      "codemirror_mode": {
        "name": "ipython",
        "version": 3
      },
      "file_extension": ".py",
      "mimetype": "text/x-python",
      "name": "python",
      "nbconvert_exporter": "python",
      "pygments_lexer": "ipython3",
      "version": "3.13.1"
    }
  },
  "nbformat": 4,
  "nbformat_minor": 0
}
