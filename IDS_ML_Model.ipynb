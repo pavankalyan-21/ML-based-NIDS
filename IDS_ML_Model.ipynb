{
  "cells": [
    {
      "cell_type": "code",
      "execution_count": null,
      "metadata": {
        "colab": {
          "base_uri": "https://localhost:8080/"
        },
        "id": "oLtmpYh79IaO",
        "outputId": "a8f8db01-6e00-447b-f525-7a2d990ad0d8"
      },
      "outputs": [
        {
          "name": "stdout",
          "output_type": "stream",
          "text": [
            "Drive already mounted at /content/drive; to attempt to forcibly remount, call drive.mount(\"/content/drive\", force_remount=True).\n",
            "(8392401, 14)\n",
            "IPV4_SRC_ADDR                 0\n",
            "L4_SRC_PORT                   0\n",
            "IPV4_DST_ADDR                 0\n",
            "L4_DST_PORT                   0\n",
            "PROTOCOL                      0\n",
            "L7_PROTO                      0\n",
            "IN_BYTES                      0\n",
            "OUT_BYTES                     0\n",
            "IN_PKTS                       0\n",
            "OUT_PKTS                      0\n",
            "TCP_FLAGS                     0\n",
            "FLOW_DURATION_MILLISECONDS    0\n",
            "Label                         0\n",
            "Attack                        0\n",
            "dtype: int64\n",
            "1077740\n",
            "Validation Accuracy: 1.0\n",
            "Test Accuracy: 1.0\n",
            "Model saved successfully and ready for real-time detection.\n"
          ]
        }
      ],
      "source": [
        "import pandas as pd\n",
        "import numpy as np\n",
        "from sklearn.model_selection import train_test_split\n",
        "from sklearn.preprocessing import StandardScaler, LabelEncoder\n",
        "from sklearn.ensemble import RandomForestClassifier\n",
        "from sklearn.metrics import accuracy_score\n",
        "import os\n",
        "from imblearn.over_sampling import SMOTE\n",
        "import joblib\n",
        "\n",
        "from google.colab import drive\n",
        "drive.mount('/content/drive')\n",
        "\n",
        "# Load the dataset\n",
        "data = pd.read_csv('/content/drive/MyDrive/NF-CSE-CIC-IDS2018.csv')\n",
        "\n",
        "# Check dataset shape and for missing/duplicate values\n",
        "print(data.shape)\n",
        "print(data.isnull().sum())\n",
        "print(data.duplicated().sum())\n",
        "\n",
        "# Drop duplicate rows\n",
        "data.drop_duplicates(inplace=True)\n",
        "\n",
        "# Separate features and target variable\n",
        "x = data.drop('Label', axis=1)\n",
        "y = data['Label']\n",
        "categorical_features = x.select_dtypes(include=['object']).columns\n",
        "\n",
        "# Label encoding for categorical features\n",
        "label_encoder = LabelEncoder()\n",
        "for feature in categorical_features:\n",
        "    x[feature] = label_encoder.fit_transform(x[feature])\n",
        "y_encoded = label_encoder.fit_transform(y)\n",
        "\n",
        "# Split data into training, validation, and test sets\n",
        "x_train, x_test, y_train_encoded, y_test_encoded = train_test_split(x, y_encoded, test_size=0.2, random_state=42)\n",
        "x_train, x_val, y_train_encoded, y_val_encoded = train_test_split(x_train, y_train_encoded, test_size=0.25, random_state=42)\n",
        "\n",
        "# Apply standard scaling to numerical features\n",
        "scaler = StandardScaler()\n",
        "x_train_scaled = scaler.fit_transform(x_train)\n",
        "x_val_scaled = scaler.transform(x_val)\n",
        "x_test_scaled = scaler.transform(x_test)\n",
        "\n",
        "# Apply SMOTE to handle class imbalance\n",
        "smote = SMOTE(random_state=42)\n",
        "x_train_resampled, y_train_resampled = smote.fit_resample(x_train_scaled, y_train_encoded)\n",
        "\n",
        "# Train the RandomForest model\n",
        "model = RandomForestClassifier(random_state=42)\n",
        "model.fit(x_train_resampled, y_train_resampled)\n",
        "\n",
        "# Save the trained model to disk\n",
        "model_file_path = \"/content/drive/MyDrive/nids_model.pkl\"\n",
        "joblib.dump(model, model_file_path)\n",
        "\n",
        "# Evaluate the model on the validation set\n",
        "y_pred_val_encoded = model.predict(x_val_scaled)\n",
        "accuracy_val = accuracy_score(y_val_encoded, y_pred_val_encoded)\n",
        "print(f\"Validation Accuracy: {accuracy_val}\")\n",
        "\n",
        "# Evaluate the model on the test set\n",
        "y_pred_test_encoded = model.predict(x_test_scaled)\n",
        "accuracy_test = accuracy_score(y_test_encoded, y_pred_test_encoded)\n",
        "print(f\"Test Accuracy: {accuracy_test}\")\n",
        "\n",
        "# Ensure the model is saved\n",
        "if os.path.exists(model_file_path):\n",
        "    print(\"Model saved successfully and ready for real-time detection.\")\n",
        "else:\n",
        "    print(\"Error: Model file not found!\")\n"
      ]
    }
  ],
  "metadata": {
    "colab": {
      "provenance": []
    },
    "kernelspec": {
      "display_name": "Python 3",
      "name": "python3"
    },
    "language_info": {
      "name": "python"
    }
  },
  "nbformat": 4,
  "nbformat_minor": 0
}
